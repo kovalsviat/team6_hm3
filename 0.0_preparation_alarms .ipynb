{
 "cells": [
  {
   "cell_type": "code",
   "execution_count": 1,
   "id": "842e709f",
   "metadata": {},
   "outputs": [],
   "source": [
    "import pandas as pd "
   ]
  },
  {
   "cell_type": "code",
   "execution_count": 3,
   "id": "c5ebe2c2",
   "metadata": {},
   "outputs": [],
   "source": [
    "df_alarms = pd.read_csv('given_data/alarms.csv',sep=';')"
   ]
  },
  {
   "cell_type": "code",
   "execution_count": null,
   "id": "f560afa8",
   "metadata": {},
   "outputs": [],
   "source": [
    "df_alarms"
   ]
  },
  {
   "cell_type": "code",
   "execution_count": null,
   "id": "3b4696b5",
   "metadata": {},
   "outputs": [],
   "source": [
    "df_alarms.describe()"
   ]
  },
  {
   "cell_type": "code",
   "execution_count": null,
   "id": "c0a00d65",
   "metadata": {},
   "outputs": [],
   "source": [
    "df_alarms['start']=pd.to_datetime(df_alarms['start'])\n",
    "df_alarms['end']=pd.to_datetime(df_alarms['end'])\n",
    "df_alarms['clean_end']=pd.to_datetime(df_alarms['clean_end'])"
   ]
  },
  {
   "cell_type": "code",
   "execution_count": null,
   "id": "570bc8e7",
   "metadata": {},
   "outputs": [],
   "source": [
    "df_alarms['duration']=df_alarms['end']-df_alarms['start']\n",
    "df_alarms['duration_in_mins_int'] = df_alarms['duration'].dt.total_seconds().div(60).astype(int).sort_values()"
   ]
  },
  {
   "cell_type": "code",
   "execution_count": null,
   "id": "341062e7",
   "metadata": {},
   "outputs": [],
   "source": [
    "df_alarms.loc[:, 'duration_in_mins_int'].describe()"
   ]
  },
  {
   "cell_type": "code",
   "execution_count": null,
   "id": "b1ec9a4e",
   "metadata": {},
   "outputs": [],
   "source": [
    "df_alarms = df_alarms.drop(['id'], axis = 1)"
   ]
  },
  {
   "cell_type": "code",
   "execution_count": null,
   "id": "091a1e56",
   "metadata": {},
   "outputs": [],
   "source": [
    "df_alarms.shape"
   ]
  },
  {
   "cell_type": "code",
   "execution_count": null,
   "id": "91f3413d",
   "metadata": {},
   "outputs": [],
   "source": [
    "OUTPUT_FOLDER = \"5_events\"\n",
    "EVENTS_OUTPUT_DATA_FILE = \"all_events.csv\"\n",
    "df_alarms.to_csv(f\"{OUTPUT_FOLDER}/{EVENTS_OUTPUT_DATA_FILE}\", sep=\";\", index=False)"
   ]
  }
 ],
 "metadata": {
  "kernelspec": {
   "display_name": "Python 3 (ipykernel)",
   "language": "python",
   "name": "python3"
  },
  "language_info": {
   "codemirror_mode": {
    "name": "ipython",
    "version": 3
   },
   "file_extension": ".py",
   "mimetype": "text/x-python",
   "name": "python",
   "nbconvert_exporter": "python",
   "pygments_lexer": "ipython3",
   "version": "3.11.2"
  }
 },
 "nbformat": 4,
 "nbformat_minor": 5
}
