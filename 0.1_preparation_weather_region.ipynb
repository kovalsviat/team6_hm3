{
 "cells": [
  {
   "cell_type": "code",
   "execution_count": 1,
   "id": "f3907a18",
   "metadata": {},
   "outputs": [],
   "source": [
    "import pandas as pd "
   ]
  },
  {
   "cell_type": "code",
   "execution_count": 2,
   "id": "3100c79c",
   "metadata": {},
   "outputs": [],
   "source": [
    "df_weather = pd.read_csv('given_data/all_weather_by_hour_v2.csv')"
   ]
  },
  {
   "cell_type": "code",
   "execution_count": 3,
   "id": "fb85d207",
   "metadata": {},
   "outputs": [],
   "source": [
    "df_weather.head()"
   ]
  },
  {
   "cell_type": "code",
   "execution_count": 4,
   "id": "5b5cc809",
   "metadata": {},
   "outputs": [],
   "source": [
    "df_weather"
   ]
  },
  {
   "cell_type": "code",
   "execution_count": 5,
   "id": "d00c1fca",
   "metadata": {},
   "outputs": [],
   "source": [
    "df_weather.loc[:, 'day_tempmin'].min()"
   ]
  },
  {
   "cell_type": "code",
   "execution_count": 6,
   "id": "166d638b",
   "metadata": {},
   "outputs": [],
   "source": [
    "df_weather.loc[:, 'day_tempmin'].max()"
   ]
  },
  {
   "cell_type": "code",
   "execution_count": 7,
   "id": "a9d6d6cc",
   "metadata": {
    "scrolled": false
   },
   "outputs": [],
   "source": [
    "for x in range(df_weather.shape[0]):\n",
    "    if df_weather.loc[x, \"day_tempmax\"] == 60.4:\n",
    "        df_weather.loc[x, \"day_tempmax\"] = 30.2\n",
    "        \n",
    "    if df_weather.loc[x, \"day_tempmin\"] == -50.3:\n",
    "        df_weather.loc[x, \"day_tempmin\"] = 5.0\n",
    "    "
   ]
  },
  {
   "cell_type": "code",
   "execution_count": 8,
   "id": "d1a8455b",
   "metadata": {},
   "outputs": [],
   "source": [
    "df_weather.loc[106385, \"day_tempmax\"]"
   ]
  },
  {
   "cell_type": "code",
   "execution_count": 9,
   "id": "a7f9ff24",
   "metadata": {},
   "outputs": [],
   "source": [
    "df_weather.describe()"
   ]
  },
  {
   "cell_type": "code",
   "execution_count": 10,
   "id": "6690f272",
   "metadata": {},
   "outputs": [],
   "source": [
    "df_weather = df_weather.drop(['city_latitude', 'city_longitude', 'city_tzoffset', 'day_datetimeEpoch'], axis = 1)"
   ]
  },
  {
   "cell_type": "code",
   "execution_count": 11,
   "id": "27f00257",
   "metadata": {},
   "outputs": [],
   "source": [
    "df_weather.head()"
   ]
  },
  {
   "cell_type": "code",
   "execution_count": 12,
   "id": "66f580fe",
   "metadata": {},
   "outputs": [],
   "source": [
    "df_weather.columns"
   ]
  },
  {
   "cell_type": "code",
   "execution_count": 13,
   "id": "0382b50b",
   "metadata": {},
   "outputs": [],
   "source": [
    "df_weather = df_weather.drop(['day_sunsetEpoch', 'hour_datetimeEpoch', \"day_sunriseEpoch\", \"day_moonphase\", \"hour_stations\", 'hour_source'], axis = 1)"
   ]
  },
  {
   "cell_type": "code",
   "execution_count": 14,
   "id": "74bbea0d",
   "metadata": {},
   "outputs": [],
   "source": [
    "df_weather.head()"
   ]
  },
  {
   "cell_type": "code",
   "execution_count": null,
   "id": "bc2447f7",
   "metadata": {},
   "outputs": [],
   "source": [
    "df_weather.to_csv('prepared_csv/weather_v2.csv', sep=';', index=False)"
   ]
  },
  {
   "cell_type": "markdown",
   "id": "5b4a95e4",
   "metadata": {},
   "source": [
    "# Region"
   ]
  },
  {
   "cell_type": "code",
   "execution_count": null,
   "id": "cf6eade3",
   "metadata": {},
   "outputs": [],
   "source": [
    "df_region = pd.read_csv('given_data/regions.csv')"
   ]
  },
  {
   "cell_type": "code",
   "execution_count": null,
   "id": "a861427c",
   "metadata": {},
   "outputs": [],
   "source": [
    "df_region"
   ]
  },
  {
   "cell_type": "code",
   "execution_count": null,
   "id": "30483063",
   "metadata": {},
   "outputs": [],
   "source": [
    "attribute = ['region', 'center_city_ua', 'center_city_en', 'region_id']\n",
    "for i in attribute:\n",
    "    print(df_region[i].nunique())\n"
   ]
  }
 ],
 "metadata": {
  "kernelspec": {
   "display_name": "Python 3 (ipykernel)",
   "language": "python",
   "name": "python3"
  },
  "language_info": {
   "codemirror_mode": {
    "name": "ipython",
    "version": 3
   },
   "file_extension": ".py",
   "mimetype": "text/x-python",
   "name": "python",
   "nbconvert_exporter": "python",
   "pygments_lexer": "ipython3",
   "version": "3.11.2"
  }
 },
 "nbformat": 4,
 "nbformat_minor": 5
}
