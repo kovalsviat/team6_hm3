{
 "cells": [
  {
   "cell_type": "code",
   "execution_count": 1,
   "id": "88fb41e1",
   "metadata": {},
   "outputs": [],
   "source": [
    "import pandas as pd"
   ]
  },
  {
   "cell_type": "code",
   "execution_count": 3,
   "id": "f890b916",
   "metadata": {},
   "outputs": [],
   "source": [
    "df_isw = pd.read_csv('3_isw_proprocessed/all_days_isw_parsed_v2.csv', sep =\";\")"
   ]
  },
  {
   "cell_type": "code",
   "execution_count": 4,
   "id": "e0e84f7f",
   "metadata": {},
   "outputs": [
    {
     "data": {
      "text/html": [
       "<div>\n",
       "<style scoped>\n",
       "    .dataframe tbody tr th:only-of-type {\n",
       "        vertical-align: middle;\n",
       "    }\n",
       "\n",
       "    .dataframe tbody tr th {\n",
       "        vertical-align: top;\n",
       "    }\n",
       "\n",
       "    .dataframe thead th {\n",
       "        text-align: right;\n",
       "    }\n",
       "</style>\n",
       "<table border=\"1\" class=\"dataframe\">\n",
       "  <thead>\n",
       "    <tr style=\"text-align: right;\">\n",
       "      <th></th>\n",
       "      <th>date</th>\n",
       "      <th>short_url</th>\n",
       "      <th>title</th>\n",
       "      <th>text_title</th>\n",
       "      <th>full_url</th>\n",
       "      <th>main_html</th>\n",
       "      <th>main_html_v7</th>\n",
       "      <th>report_text_lemm</th>\n",
       "      <th>report_text_stemm</th>\n",
       "      <th>keywords</th>\n",
       "    </tr>\n",
       "  </thead>\n",
       "  <tbody>\n",
       "    <tr>\n",
       "      <th>0</th>\n",
       "      <td>2022-02-24</td>\n",
       "      <td>russia_ukraine_warning_update_initial_russian_...</td>\n",
       "      <td>Russia-Ukraine Warning Update: Initial Russian...</td>\n",
       "      <td>Russia-Ukraine Warning Update: Initial Russian...</td>\n",
       "      <td>/backgrounder/russia-ukraine-warning-update-in...</td>\n",
       "      <td>\\nMason Clark, George Barros, and Kateryna S...</td>\n",
       "      <td>\\nRussian President Vladimir Putin began a lar...</td>\n",
       "      <td>russian presid vladimir putin began larg scal...</td>\n",
       "      <td>russian presid vladimir putin began larg scal...</td>\n",
       "      <td>{'pm': 0.387, 'airport': 0.261, 'kyiv': 0.243,...</td>\n",
       "    </tr>\n",
       "    <tr>\n",
       "      <th>1</th>\n",
       "      <td>2022-02-25</td>\n",
       "      <td>russia_ukraine_warning_update_russian_offensiv...</td>\n",
       "      <td>Russia-Ukraine Warning Update: Russian Offensi...</td>\n",
       "      <td>Russia-Ukraine Warning Update: Russian Offensi...</td>\n",
       "      <td>/backgrounder/russia-ukraine-warning-update-ru...</td>\n",
       "      <td>Mason Clark, George Barros, and Kateryna Step...</td>\n",
       "      <td>\\nRussian forces entered the outskirts of Kyiv...</td>\n",
       "      <td>russian forc enter outskirt kyiv west bank dn...</td>\n",
       "      <td>russian forc enter outskirt kyiv west bank dn...</td>\n",
       "      <td>{'pm': 0.351, 'zero': 0.341, 'februari': 0.328...</td>\n",
       "    </tr>\n",
       "    <tr>\n",
       "      <th>2</th>\n",
       "      <td>2022-02-27</td>\n",
       "      <td>russia_ukraine_warning_update_russian_offensiv...</td>\n",
       "      <td>Russia-Ukraine Warning Update: Russian Offensi...</td>\n",
       "      <td>Russia-Ukraine Warning Update: Russian Offensi...</td>\n",
       "      <td>/backgrounder/russia-ukraine-warning-update-ru...</td>\n",
       "      <td>\\nMason Clark, George Barros, and Kateryna St...</td>\n",
       "      <td>\\nThe Russian military has likely recognized t...</td>\n",
       "      <td>russian militari like recogn initi expect lim...</td>\n",
       "      <td>russian militari like recogn initi expect lim...</td>\n",
       "      <td>{'februari': 0.505, 'seven': 0.345, 'twenti': ...</td>\n",
       "    </tr>\n",
       "    <tr>\n",
       "      <th>3</th>\n",
       "      <td>2022-02-28</td>\n",
       "      <td>russian_offensive_campaign_assessment_february...</td>\n",
       "      <td>Russian Offensive Campaign Assessment, Februar...</td>\n",
       "      <td>Russian Offensive Campaign Assessment, Februar...</td>\n",
       "      <td>/backgrounder/russian-offensive-campaign-asses...</td>\n",
       "      <td>\\nMason Clark, George Barros, and Kateryna S...</td>\n",
       "      <td>\\nThe Russian military is reorganizing its mil...</td>\n",
       "      <td>russian militari reorgan militari effort atte...</td>\n",
       "      <td>russian militari reorgan militari effort atte...</td>\n",
       "      <td>{'februari': 0.541, 'eight': 0.334, 'twenti': ...</td>\n",
       "    </tr>\n",
       "    <tr>\n",
       "      <th>4</th>\n",
       "      <td>2022-03-01</td>\n",
       "      <td>russian_offensive_campaign_assessment_march_1</td>\n",
       "      <td>Russian Offensive Campaign Assessment, March 1...</td>\n",
       "      <td>Russian Offensive Campaign Assessment, March 1</td>\n",
       "      <td>/backgrounder/russian-offensive-campaign-asses...</td>\n",
       "      <td>\\nFrederick W. Kagan, George Barros, and Kat...</td>\n",
       "      <td>\\nRussian forces are completing the reinforcem...</td>\n",
       "      <td>russian forc complet reinforc resuppli troop ...</td>\n",
       "      <td>russian forc complet reinforc resuppli troop ...</td>\n",
       "      <td>{'kyiv': 0.352, 'envelop': 0.283, 'chernihiv':...</td>\n",
       "    </tr>\n",
       "  </tbody>\n",
       "</table>\n",
       "</div>"
      ],
      "text/plain": [
       "         date                                          short_url   \n",
       "0  2022-02-24  russia_ukraine_warning_update_initial_russian_...  \\\n",
       "1  2022-02-25  russia_ukraine_warning_update_russian_offensiv...   \n",
       "2  2022-02-27  russia_ukraine_warning_update_russian_offensiv...   \n",
       "3  2022-02-28  russian_offensive_campaign_assessment_february...   \n",
       "4  2022-03-01      russian_offensive_campaign_assessment_march_1   \n",
       "\n",
       "                                               title   \n",
       "0  Russia-Ukraine Warning Update: Initial Russian...  \\\n",
       "1  Russia-Ukraine Warning Update: Russian Offensi...   \n",
       "2  Russia-Ukraine Warning Update: Russian Offensi...   \n",
       "3  Russian Offensive Campaign Assessment, Februar...   \n",
       "4  Russian Offensive Campaign Assessment, March 1...   \n",
       "\n",
       "                                          text_title   \n",
       "0  Russia-Ukraine Warning Update: Initial Russian...  \\\n",
       "1  Russia-Ukraine Warning Update: Russian Offensi...   \n",
       "2  Russia-Ukraine Warning Update: Russian Offensi...   \n",
       "3  Russian Offensive Campaign Assessment, Februar...   \n",
       "4     Russian Offensive Campaign Assessment, March 1   \n",
       "\n",
       "                                            full_url   \n",
       "0  /backgrounder/russia-ukraine-warning-update-in...  \\\n",
       "1  /backgrounder/russia-ukraine-warning-update-ru...   \n",
       "2  /backgrounder/russia-ukraine-warning-update-ru...   \n",
       "3  /backgrounder/russian-offensive-campaign-asses...   \n",
       "4  /backgrounder/russian-offensive-campaign-asses...   \n",
       "\n",
       "                                           main_html   \n",
       "0    \\nMason Clark, George Barros, and Kateryna S...  \\\n",
       "1   Mason Clark, George Barros, and Kateryna Step...   \n",
       "2   \\nMason Clark, George Barros, and Kateryna St...   \n",
       "3    \\nMason Clark, George Barros, and Kateryna S...   \n",
       "4    \\nFrederick W. Kagan, George Barros, and Kat...   \n",
       "\n",
       "                                        main_html_v7   \n",
       "0  \\nRussian President Vladimir Putin began a lar...  \\\n",
       "1  \\nRussian forces entered the outskirts of Kyiv...   \n",
       "2  \\nThe Russian military has likely recognized t...   \n",
       "3  \\nThe Russian military is reorganizing its mil...   \n",
       "4  \\nRussian forces are completing the reinforcem...   \n",
       "\n",
       "                                    report_text_lemm   \n",
       "0   russian presid vladimir putin began larg scal...  \\\n",
       "1   russian forc enter outskirt kyiv west bank dn...   \n",
       "2   russian militari like recogn initi expect lim...   \n",
       "3   russian militari reorgan militari effort atte...   \n",
       "4   russian forc complet reinforc resuppli troop ...   \n",
       "\n",
       "                                   report_text_stemm   \n",
       "0   russian presid vladimir putin began larg scal...  \\\n",
       "1   russian forc enter outskirt kyiv west bank dn...   \n",
       "2   russian militari like recogn initi expect lim...   \n",
       "3   russian militari reorgan militari effort atte...   \n",
       "4   russian forc complet reinforc resuppli troop ...   \n",
       "\n",
       "                                            keywords  \n",
       "0  {'pm': 0.387, 'airport': 0.261, 'kyiv': 0.243,...  \n",
       "1  {'pm': 0.351, 'zero': 0.341, 'februari': 0.328...  \n",
       "2  {'februari': 0.505, 'seven': 0.345, 'twenti': ...  \n",
       "3  {'februari': 0.541, 'eight': 0.334, 'twenti': ...  \n",
       "4  {'kyiv': 0.352, 'envelop': 0.283, 'chernihiv':...  "
      ]
     },
     "execution_count": 4,
     "metadata": {},
     "output_type": "execute_result"
    }
   ],
   "source": [
    "df_isw.head()"
   ]
  },
  {
   "cell_type": "code",
   "execution_count": 5,
   "id": "baa6c98b",
   "metadata": {},
   "outputs": [],
   "source": [
    "df_isw = df_isw.drop(labels=[329,330,331,332,333], axis =0)"
   ]
  },
  {
   "cell_type": "code",
   "execution_count": 6,
   "id": "a88546e0",
   "metadata": {},
   "outputs": [
    {
     "ename": "KeyError",
     "evalue": "\"['main_html_v2'] not found in axis\"",
     "output_type": "error",
     "traceback": [
      "\u001b[1;31m---------------------------------------------------------------------------\u001b[0m",
      "\u001b[1;31mKeyError\u001b[0m                                  Traceback (most recent call last)",
      "Input \u001b[1;32mIn [6]\u001b[0m, in \u001b[0;36m<module>\u001b[1;34m\u001b[0m\n\u001b[1;32m----> 1\u001b[0m df_isw \u001b[38;5;241m=\u001b[39m \u001b[43mdf_isw\u001b[49m\u001b[38;5;241;43m.\u001b[39;49m\u001b[43mdrop\u001b[49m\u001b[43m(\u001b[49m\u001b[43m[\u001b[49m\u001b[38;5;124;43m'\u001b[39;49m\u001b[38;5;124;43mshort_url\u001b[39;49m\u001b[38;5;124;43m'\u001b[39;49m\u001b[43m,\u001b[49m\u001b[43m \u001b[49m\u001b[38;5;124;43m'\u001b[39;49m\u001b[38;5;124;43mtitle\u001b[39;49m\u001b[38;5;124;43m'\u001b[39;49m\u001b[43m,\u001b[49m\u001b[43m \u001b[49m\u001b[38;5;124;43m'\u001b[39;49m\u001b[38;5;124;43mtext_title\u001b[39;49m\u001b[38;5;124;43m'\u001b[39;49m\u001b[43m,\u001b[49m\u001b[43m \u001b[49m\u001b[38;5;124;43m'\u001b[39;49m\u001b[38;5;124;43mfull_url\u001b[39;49m\u001b[38;5;124;43m'\u001b[39;49m\u001b[43m,\u001b[49m\u001b[43m \u001b[49m\u001b[38;5;124;43m'\u001b[39;49m\u001b[38;5;124;43mmain_html\u001b[39;49m\u001b[38;5;124;43m'\u001b[39;49m\u001b[43m,\u001b[49m\u001b[43m \u001b[49m\u001b[38;5;124;43m'\u001b[39;49m\u001b[38;5;124;43mmain_html_v2\u001b[39;49m\u001b[38;5;124;43m'\u001b[39;49m\u001b[43m,\u001b[49m\u001b[43m \u001b[49m\u001b[38;5;124;43m'\u001b[39;49m\u001b[38;5;124;43mmain_html_v7\u001b[39;49m\u001b[38;5;124;43m'\u001b[39;49m\u001b[43m,\u001b[49m\u001b[43m \u001b[49m\u001b[38;5;124;43m'\u001b[39;49m\u001b[38;5;124;43mreport_text_lemm\u001b[39;49m\u001b[38;5;124;43m'\u001b[39;49m\u001b[43m,\u001b[49m\u001b[43m \u001b[49m\u001b[38;5;124;43m'\u001b[39;49m\u001b[38;5;124;43mreport_text_stemm\u001b[39;49m\u001b[38;5;124;43m'\u001b[39;49m\u001b[43m]\u001b[49m\u001b[43m,\u001b[49m\u001b[43m \u001b[49m\u001b[43maxis\u001b[49m\u001b[43m \u001b[49m\u001b[38;5;241;43m=\u001b[39;49m\u001b[38;5;241;43m1\u001b[39;49m\u001b[43m)\u001b[49m\n",
      "File \u001b[1;32m~\\study\\programing_s5\\.venv\\Lib\\site-packages\\pandas\\core\\frame.py:5266\u001b[0m, in \u001b[0;36mDataFrame.drop\u001b[1;34m(self, labels, axis, index, columns, level, inplace, errors)\u001b[0m\n\u001b[0;32m   5118\u001b[0m \u001b[38;5;28;01mdef\u001b[39;00m \u001b[38;5;21mdrop\u001b[39m(\n\u001b[0;32m   5119\u001b[0m     \u001b[38;5;28mself\u001b[39m,\n\u001b[0;32m   5120\u001b[0m     labels: IndexLabel \u001b[38;5;241m=\u001b[39m \u001b[38;5;28;01mNone\u001b[39;00m,\n\u001b[1;32m   (...)\u001b[0m\n\u001b[0;32m   5127\u001b[0m     errors: IgnoreRaise \u001b[38;5;241m=\u001b[39m \u001b[38;5;124m\"\u001b[39m\u001b[38;5;124mraise\u001b[39m\u001b[38;5;124m\"\u001b[39m,\n\u001b[0;32m   5128\u001b[0m ) \u001b[38;5;241m-\u001b[39m\u001b[38;5;241m>\u001b[39m DataFrame \u001b[38;5;241m|\u001b[39m \u001b[38;5;28;01mNone\u001b[39;00m:\n\u001b[0;32m   5129\u001b[0m \u001b[38;5;250m    \u001b[39m\u001b[38;5;124;03m\"\"\"\u001b[39;00m\n\u001b[0;32m   5130\u001b[0m \u001b[38;5;124;03m    Drop specified labels from rows or columns.\u001b[39;00m\n\u001b[0;32m   5131\u001b[0m \n\u001b[1;32m   (...)\u001b[0m\n\u001b[0;32m   5264\u001b[0m \u001b[38;5;124;03m            weight  1.0     0.8\u001b[39;00m\n\u001b[0;32m   5265\u001b[0m \u001b[38;5;124;03m    \"\"\"\u001b[39;00m\n\u001b[1;32m-> 5266\u001b[0m     \u001b[38;5;28;01mreturn\u001b[39;00m \u001b[38;5;28;43msuper\u001b[39;49m\u001b[43m(\u001b[49m\u001b[43m)\u001b[49m\u001b[38;5;241;43m.\u001b[39;49m\u001b[43mdrop\u001b[49m\u001b[43m(\u001b[49m\n\u001b[0;32m   5267\u001b[0m \u001b[43m        \u001b[49m\u001b[43mlabels\u001b[49m\u001b[38;5;241;43m=\u001b[39;49m\u001b[43mlabels\u001b[49m\u001b[43m,\u001b[49m\n\u001b[0;32m   5268\u001b[0m \u001b[43m        \u001b[49m\u001b[43maxis\u001b[49m\u001b[38;5;241;43m=\u001b[39;49m\u001b[43maxis\u001b[49m\u001b[43m,\u001b[49m\n\u001b[0;32m   5269\u001b[0m \u001b[43m        \u001b[49m\u001b[43mindex\u001b[49m\u001b[38;5;241;43m=\u001b[39;49m\u001b[43mindex\u001b[49m\u001b[43m,\u001b[49m\n\u001b[0;32m   5270\u001b[0m \u001b[43m        \u001b[49m\u001b[43mcolumns\u001b[49m\u001b[38;5;241;43m=\u001b[39;49m\u001b[43mcolumns\u001b[49m\u001b[43m,\u001b[49m\n\u001b[0;32m   5271\u001b[0m \u001b[43m        \u001b[49m\u001b[43mlevel\u001b[49m\u001b[38;5;241;43m=\u001b[39;49m\u001b[43mlevel\u001b[49m\u001b[43m,\u001b[49m\n\u001b[0;32m   5272\u001b[0m \u001b[43m        \u001b[49m\u001b[43minplace\u001b[49m\u001b[38;5;241;43m=\u001b[39;49m\u001b[43minplace\u001b[49m\u001b[43m,\u001b[49m\n\u001b[0;32m   5273\u001b[0m \u001b[43m        \u001b[49m\u001b[43merrors\u001b[49m\u001b[38;5;241;43m=\u001b[39;49m\u001b[43merrors\u001b[49m\u001b[43m,\u001b[49m\n\u001b[0;32m   5274\u001b[0m \u001b[43m    \u001b[49m\u001b[43m)\u001b[49m\n",
      "File \u001b[1;32m~\\study\\programing_s5\\.venv\\Lib\\site-packages\\pandas\\core\\generic.py:4549\u001b[0m, in \u001b[0;36mNDFrame.drop\u001b[1;34m(self, labels, axis, index, columns, level, inplace, errors)\u001b[0m\n\u001b[0;32m   4547\u001b[0m \u001b[38;5;28;01mfor\u001b[39;00m axis, labels \u001b[38;5;129;01min\u001b[39;00m axes\u001b[38;5;241m.\u001b[39mitems():\n\u001b[0;32m   4548\u001b[0m     \u001b[38;5;28;01mif\u001b[39;00m labels \u001b[38;5;129;01mis\u001b[39;00m \u001b[38;5;129;01mnot\u001b[39;00m \u001b[38;5;28;01mNone\u001b[39;00m:\n\u001b[1;32m-> 4549\u001b[0m         obj \u001b[38;5;241m=\u001b[39m \u001b[43mobj\u001b[49m\u001b[38;5;241;43m.\u001b[39;49m\u001b[43m_drop_axis\u001b[49m\u001b[43m(\u001b[49m\u001b[43mlabels\u001b[49m\u001b[43m,\u001b[49m\u001b[43m \u001b[49m\u001b[43maxis\u001b[49m\u001b[43m,\u001b[49m\u001b[43m \u001b[49m\u001b[43mlevel\u001b[49m\u001b[38;5;241;43m=\u001b[39;49m\u001b[43mlevel\u001b[49m\u001b[43m,\u001b[49m\u001b[43m \u001b[49m\u001b[43merrors\u001b[49m\u001b[38;5;241;43m=\u001b[39;49m\u001b[43merrors\u001b[49m\u001b[43m)\u001b[49m\n\u001b[0;32m   4551\u001b[0m \u001b[38;5;28;01mif\u001b[39;00m inplace:\n\u001b[0;32m   4552\u001b[0m     \u001b[38;5;28mself\u001b[39m\u001b[38;5;241m.\u001b[39m_update_inplace(obj)\n",
      "File \u001b[1;32m~\\study\\programing_s5\\.venv\\Lib\\site-packages\\pandas\\core\\generic.py:4591\u001b[0m, in \u001b[0;36mNDFrame._drop_axis\u001b[1;34m(self, labels, axis, level, errors, only_slice)\u001b[0m\n\u001b[0;32m   4589\u001b[0m         new_axis \u001b[38;5;241m=\u001b[39m axis\u001b[38;5;241m.\u001b[39mdrop(labels, level\u001b[38;5;241m=\u001b[39mlevel, errors\u001b[38;5;241m=\u001b[39merrors)\n\u001b[0;32m   4590\u001b[0m     \u001b[38;5;28;01melse\u001b[39;00m:\n\u001b[1;32m-> 4591\u001b[0m         new_axis \u001b[38;5;241m=\u001b[39m \u001b[43maxis\u001b[49m\u001b[38;5;241;43m.\u001b[39;49m\u001b[43mdrop\u001b[49m\u001b[43m(\u001b[49m\u001b[43mlabels\u001b[49m\u001b[43m,\u001b[49m\u001b[43m \u001b[49m\u001b[43merrors\u001b[49m\u001b[38;5;241;43m=\u001b[39;49m\u001b[43merrors\u001b[49m\u001b[43m)\u001b[49m\n\u001b[0;32m   4592\u001b[0m     indexer \u001b[38;5;241m=\u001b[39m axis\u001b[38;5;241m.\u001b[39mget_indexer(new_axis)\n\u001b[0;32m   4594\u001b[0m \u001b[38;5;66;03m# Case for non-unique axis\u001b[39;00m\n\u001b[0;32m   4595\u001b[0m \u001b[38;5;28;01melse\u001b[39;00m:\n",
      "File \u001b[1;32m~\\study\\programing_s5\\.venv\\Lib\\site-packages\\pandas\\core\\indexes\\base.py:6696\u001b[0m, in \u001b[0;36mIndex.drop\u001b[1;34m(self, labels, errors)\u001b[0m\n\u001b[0;32m   6694\u001b[0m \u001b[38;5;28;01mif\u001b[39;00m mask\u001b[38;5;241m.\u001b[39many():\n\u001b[0;32m   6695\u001b[0m     \u001b[38;5;28;01mif\u001b[39;00m errors \u001b[38;5;241m!=\u001b[39m \u001b[38;5;124m\"\u001b[39m\u001b[38;5;124mignore\u001b[39m\u001b[38;5;124m\"\u001b[39m:\n\u001b[1;32m-> 6696\u001b[0m         \u001b[38;5;28;01mraise\u001b[39;00m \u001b[38;5;167;01mKeyError\u001b[39;00m(\u001b[38;5;124mf\u001b[39m\u001b[38;5;124m\"\u001b[39m\u001b[38;5;132;01m{\u001b[39;00m\u001b[38;5;28mlist\u001b[39m(labels[mask])\u001b[38;5;132;01m}\u001b[39;00m\u001b[38;5;124m not found in axis\u001b[39m\u001b[38;5;124m\"\u001b[39m)\n\u001b[0;32m   6697\u001b[0m     indexer \u001b[38;5;241m=\u001b[39m indexer[\u001b[38;5;241m~\u001b[39mmask]\n\u001b[0;32m   6698\u001b[0m \u001b[38;5;28;01mreturn\u001b[39;00m \u001b[38;5;28mself\u001b[39m\u001b[38;5;241m.\u001b[39mdelete(indexer)\n",
      "\u001b[1;31mKeyError\u001b[0m: \"['main_html_v2'] not found in axis\""
     ]
    }
   ],
   "source": [
    "df_isw = df_isw.drop(['short_url', 'title', 'text_title', 'full_url', 'main_html', 'main_html_v2', 'main_html_v7', 'report_text_stemm'], axis =1)"
   ]
  },
  {
   "cell_type": "code",
   "execution_count": null,
   "id": "5b4e2158",
   "metadata": {},
   "outputs": [],
   "source": [
    "df_isw"
   ]
  },
  {
   "cell_type": "code",
   "execution_count": null,
   "id": "6da856f1",
   "metadata": {
    "scrolled": true
   },
   "outputs": [],
   "source": [
    "df_isw.iloc[326,1]"
   ]
  }
 ],
 "metadata": {
  "kernelspec": {
   "display_name": "Python 3 (ipykernel)",
   "language": "python",
   "name": "python3"
  },
  "language_info": {
   "codemirror_mode": {
    "name": "ipython",
    "version": 3
   },
   "file_extension": ".py",
   "mimetype": "text/x-python",
   "name": "python",
   "nbconvert_exporter": "python",
   "pygments_lexer": "ipython3",
   "version": "3.11.2"
  }
 },
 "nbformat": 4,
 "nbformat_minor": 5
}
