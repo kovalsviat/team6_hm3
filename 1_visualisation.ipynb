{
 "cells": [
  {
   "cell_type": "code",
   "execution_count": 13,
   "id": "a333c528",
   "metadata": {
    "scrolled": false
   },
   "outputs": [],
   "source": [
    "import pandas as pd"
   ]
  },
  {
   "cell_type": "code",
   "execution_count": null,
   "id": "8a5e2756",
   "metadata": {},
   "outputs": [],
   "source": [
    "# pip install matplotlib"
   ]
  },
  {
   "cell_type": "code",
   "execution_count": null,
   "id": "8e33a9bd",
   "metadata": {},
   "outputs": [],
   "source": [
    "# !pip install seaborn"
   ]
  },
  {
   "cell_type": "code",
   "execution_count": null,
   "id": "cdb6273b",
   "metadata": {
    "scrolled": true
   },
   "outputs": [],
   "source": [
    "import matplotlib.pyplot as plt"
   ]
  },
  {
   "cell_type": "code",
   "execution_count": null,
   "id": "54b75e36",
   "metadata": {},
   "outputs": [],
   "source": [
    "df_alarms = pd.read_csv('5_events/all_events.csv',sep=';')"
   ]
  },
  {
   "cell_type": "code",
   "execution_count": null,
   "id": "071a07c5",
   "metadata": {
    "scrolled": false
   },
   "outputs": [],
   "source": [
    "df_alarms.head()"
   ]
  },
  {
   "cell_type": "markdown",
   "id": "263d7efa",
   "metadata": {},
   "source": [
    "### distribution by regions"
   ]
  },
  {
   "cell_type": "code",
   "execution_count": null,
   "id": "6327859a",
   "metadata": {
    "scrolled": true
   },
   "outputs": [],
   "source": [
    "fig, ax = plt.subplots()\n",
    "df_alarms['region_title'].value_counts().plot(kind='bar',title=\"Distribution by regions\", color = \"#A57164\", ax=ax, ylabel = 'number of alarms',\n",
    "                                             xlabel = 'region title')\n",
    "plt.show()"
   ]
  },
  {
   "cell_type": "markdown",
   "id": "ccb52669",
   "metadata": {},
   "source": [
    "### statistic variables(mean, median, std)"
   ]
  },
  {
   "cell_type": "code",
   "execution_count": null,
   "id": "ede8ab57",
   "metadata": {},
   "outputs": [],
   "source": [
    "df_alarms.groupby('region_id').describe()"
   ]
  },
  {
   "cell_type": "code",
   "execution_count": null,
   "id": "019fd4c3",
   "metadata": {
    "scrolled": true
   },
   "outputs": [],
   "source": [
    "df_alarms.head()"
   ]
  },
  {
   "cell_type": "markdown",
   "id": "ee0d4770",
   "metadata": {},
   "source": [
    "### evaluating the time"
   ]
  },
  {
   "cell_type": "code",
   "execution_count": null,
   "id": "fb50de62",
   "metadata": {},
   "outputs": [],
   "source": [
    "df_alarms['start']=pd.to_datetime(df_alarms['start'])\n",
    "df_alarms['end']=pd.to_datetime(df_alarms['end'])\n",
    "df_alarms['clean_end']=pd.to_datetime(df_alarms['clean_end'])\n"
   ]
  },
  {
   "cell_type": "code",
   "execution_count": null,
   "id": "3c04a623",
   "metadata": {},
   "outputs": [],
   "source": [
    "df_alarms['duration']=df_alarms['end']-df_alarms['start']\n",
    "df_alarms['duration_in_mins_int'] = df_alarms['duration'].dt.total_seconds().div(60).astype(int).sort_values()"
   ]
  },
  {
   "cell_type": "code",
   "execution_count": null,
   "id": "41e93271",
   "metadata": {
    "scrolled": true
   },
   "outputs": [],
   "source": [
    "df_alarms.tail()"
   ]
  },
  {
   "cell_type": "code",
   "execution_count": null,
   "id": "d4a7bc0f",
   "metadata": {},
   "outputs": [],
   "source": [
    "df_dur=df_alarms[['region_id','region_title','duration']]"
   ]
  },
  {
   "cell_type": "markdown",
   "id": "c98ef2e0",
   "metadata": {},
   "source": [
    "### Sum of all the alarms' durations"
   ]
  },
  {
   "cell_type": "code",
   "execution_count": null,
   "id": "7cbbda4a",
   "metadata": {},
   "outputs": [],
   "source": [
    "duration_sum_by_region = df_dur.groupby('region_title')['duration']\n",
    "duration_sum_by_region_sum = duration_sum_by_region.sum()\n",
    "duration_sum_by_region_1=duration_sum_by_region_sum.dt.total_seconds().div(3600).astype(int).sort_values()\n",
    "duration_sum_by_region_sum"
   ]
  },
  {
   "cell_type": "code",
   "execution_count": null,
   "id": "88802121",
   "metadata": {},
   "outputs": [],
   "source": [
    "duration_sum_by_region_1"
   ]
  },
  {
   "cell_type": "code",
   "execution_count": null,
   "id": "4cd0d92c",
   "metadata": {
    "scrolled": false
   },
   "outputs": [],
   "source": [
    "duration_sum_by_region_1.plot(kind='bar',title = 'Sum of all the alarms\\' durations',\n",
    "                                                                   xlabel = 'Regions',ylabel = 'hours', color = \"#A57164\")"
   ]
  },
  {
   "cell_type": "code",
   "execution_count": null,
   "id": "21e26448",
   "metadata": {},
   "outputs": [],
   "source": [
    "avg_dur = df_alarms.groupby('region_title')['duration_in_mins_int'].mean().sort_values(ascending=False)\n",
    "avg_dur.plot(kind='bar',title = 'Average alarm duration per region',\n",
    "                     xlabel = 'Regions',ylabel = 'Minutes', ylim =[0,90], color = \"#A57164\");"
   ]
  },
  {
   "cell_type": "code",
   "execution_count": null,
   "id": "cad80125",
   "metadata": {},
   "outputs": [],
   "source": []
  },
  {
   "cell_type": "markdown",
   "id": "6c385991",
   "metadata": {},
   "source": [
    "### Boxplot"
   ]
  },
  {
   "cell_type": "code",
   "execution_count": null,
   "id": "cb7e2c64",
   "metadata": {},
   "outputs": [],
   "source": [
    "import matplotlib.pyplot as plt\n",
    "\n",
    "# Create a dictionary to store the duration data for each region\n",
    "duration_data = {}\n",
    "for region in df_alarms['region_title'].unique():\n",
    "    duration_data[region] = df_alarms[df_alarms['region_title'] == region]['duration_in_mins_int']\n",
    "\n",
    "# Create a list of region titles in the same order as the duration data\n",
    "region_titles = list(duration_data.keys())\n",
    "\n",
    "# Create a figure and axis object\n",
    "fig, ax = plt.subplots()\n",
    "\n",
    "# Create a boxplot with the duration data for each region\n",
    "ax.boxplot(duration_data.values())\n",
    "\n",
    "# Set the x-axis tick labels to the region titles\n",
    "ax.set_xticklabels(region_titles)\n",
    "\n",
    "# Set the axis labels and title\n",
    "ax.set_xlabel('Region')\n",
    "ax.set_ylabel('Duration (minutes)')\n",
    "ax.set_title('Average duration of alarms by region')\n",
    "ax.xaxis.set_tick_params(labelrotation=270)\n",
    "\n",
    "# Show the plot\n",
    "plt.show()"
   ]
  },
  {
   "cell_type": "markdown",
   "id": "31f1bd46",
   "metadata": {},
   "source": [
    "### Scatter plot on the first day of data distribution where the alarm was\n"
   ]
  },
  {
   "cell_type": "code",
   "execution_count": null,
   "id": "a44110db",
   "metadata": {
    "scrolled": true
   },
   "outputs": [],
   "source": [
    "first_time_df = df_alarms.groupby('region_title')['start'].min()\n",
    "first_time_df"
   ]
  },
  {
   "cell_type": "markdown",
   "id": "a817501d",
   "metadata": {},
   "source": [
    "#### _!!! pay attention here that some regions have the first recors quite late, for instance, in Kherson 2022-03-27 22:22:41, when it was def earlier_"
   ]
  },
  {
   "cell_type": "markdown",
   "id": "eda48a63",
   "metadata": {},
   "source": [
    "### max"
   ]
  },
  {
   "cell_type": "code",
   "execution_count": null,
   "id": "a3491dda",
   "metadata": {},
   "outputs": [],
   "source": [
    "df_alarms['duration'].max()"
   ]
  },
  {
   "cell_type": "markdown",
   "id": "7fe38111",
   "metadata": {},
   "source": [
    "### min"
   ]
  },
  {
   "cell_type": "code",
   "execution_count": null,
   "id": "ba7478ee",
   "metadata": {},
   "outputs": [],
   "source": [
    "df_alarms['duration'].min()"
   ]
  },
  {
   "cell_type": "markdown",
   "id": "2fc7dbad",
   "metadata": {},
   "source": [
    "### start and end of the alarms"
   ]
  },
  {
   "cell_type": "code",
   "execution_count": null,
   "id": "947b64fc",
   "metadata": {},
   "outputs": [],
   "source": [
    "df_alarms['start'].min()"
   ]
  },
  {
   "cell_type": "code",
   "execution_count": null,
   "id": "b2d70373",
   "metadata": {},
   "outputs": [],
   "source": [
    "df_alarms['end'].max()"
   ]
  },
  {
   "cell_type": "markdown",
   "id": "a32d90b5",
   "metadata": {},
   "source": [
    "# Visualisation weather + regions data"
   ]
  },
  {
   "cell_type": "code",
   "execution_count": null,
   "id": "568e8f70",
   "metadata": {},
   "outputs": [],
   "source": [
    "df_weather_reg = pd.read_csv('prepared_csv/ weather_regions.csv',sep=';')"
   ]
  },
  {
   "cell_type": "code",
   "execution_count": null,
   "id": "58b32851",
   "metadata": {},
   "outputs": [],
   "source": [
    "df_weather_reg.head()"
   ]
  },
  {
   "cell_type": "code",
   "execution_count": null,
   "id": "8a0277ff",
   "metadata": {},
   "outputs": [],
   "source": [
    "# for x in range(df_weather_reg.shape[0]):\n",
    "#     if df_weather_reg.loc[x, \"day_tempmax\"] == 60.4:\n",
    "#         df_weather_reg.loc[x, \"day_tempmax\"] = 30.2\n",
    "        \n",
    "#     if df_weather_reg.loc[x, \"day_tempmin\"] == -50.3:\n",
    "#         df_weather_reg.loc[x, \"day_tempmin\"] = 5.0"
   ]
  },
  {
   "cell_type": "code",
   "execution_count": null,
   "id": "aeebd4da",
   "metadata": {},
   "outputs": [],
   "source": [
    "my_colors = [\"#1F75FE\",\"#FF91AF\", \"#A1CAF1\", '#AB274F']\n",
    "regions_temp = df_weather_reg.groupby('center_city_en')[['day_tempmin', 'day_tempmax']].agg(['min', 'max'])\n",
    "\n",
    "\n",
    "fig, ax = plt.subplots()\n",
    "\n",
    "regions_temp.plot(kind = 'bar', color = my_colors, title = 'Min and max temperature for each region',ax = ax, ylabel= 'temperature',\n",
    "                 xlabel = 'central city')\n",
    "\n",
    "ax.legend(title= None,prop = {'size':10}, bbox_to_anchor=(1.05,1.02))"
   ]
  },
  {
   "cell_type": "code",
   "execution_count": null,
   "id": "966915af",
   "metadata": {},
   "outputs": [],
   "source": [
    "crosstab = pd.crosstab(index=df_weather_reg.loc[:, 'hour_conditions'], columns='count')\n",
    "crosstab = crosstab.sort_values(by = 'count', ascending = False)\n",
    "\n",
    "crosstab.plot(kind = 'bar', ylabel = 'hours', xlabel = 'conditions', color= '#A57164', legend = False, title= 'Conditions by hour');"
   ]
  },
  {
   "cell_type": "code",
   "execution_count": null,
   "id": "641b571c",
   "metadata": {},
   "outputs": [],
   "source": [
    "df_weather_reg.loc[:, 'day_tempmin'].min()"
   ]
  },
  {
   "cell_type": "code",
   "execution_count": null,
   "id": "14d0c83c",
   "metadata": {},
   "outputs": [],
   "source": [
    "df_alarms.head()"
   ]
  },
  {
   "cell_type": "markdown",
   "id": "2864d351",
   "metadata": {},
   "source": [
    "# Merged "
   ]
  },
  {
   "cell_type": "code",
   "execution_count": null,
   "id": "155acbb1",
   "metadata": {},
   "outputs": [],
   "source": [
    "df = pd.read_csv('prepared_csv/merged_dataset_v2.csv', sep=';')"
   ]
  },
  {
   "cell_type": "code",
   "execution_count": null,
   "id": "2da6f92a",
   "metadata": {},
   "outputs": [],
   "source": [
    "import numpy as np\n",
    "df_na = df.isna().sum()"
   ]
  },
  {
   "cell_type": "code",
   "execution_count": null,
   "id": "a36f34ca",
   "metadata": {},
   "outputs": [],
   "source": [
    "df_na.tail(40)"
   ]
  },
  {
   "cell_type": "code",
   "execution_count": null,
   "id": "37b3b598",
   "metadata": {},
   "outputs": [],
   "source": [
    "df_na.tail(40)"
   ]
  },
  {
   "cell_type": "code",
   "execution_count": null,
   "id": "52d3961c",
   "metadata": {},
   "outputs": [],
   "source": [
    "index =[]"
   ]
  },
  {
   "cell_type": "code",
   "execution_count": null,
   "id": "fc738c8b",
   "metadata": {},
   "outputs": [],
   "source": [
    "for i in range(df_na.shape[0]):\n",
    "    if df_na[i] == 0:\n",
    "        index.append(df_na.index[i])"
   ]
  },
  {
   "cell_type": "code",
   "execution_count": null,
   "id": "966c5a5e",
   "metadata": {},
   "outputs": [],
   "source": [
    "index"
   ]
  },
  {
   "cell_type": "code",
   "execution_count": null,
   "id": "9e192c85",
   "metadata": {},
   "outputs": [],
   "source": [
    "df_na = df_na.drop(index = index, axis=0)"
   ]
  },
  {
   "cell_type": "code",
   "execution_count": null,
   "id": "01768475",
   "metadata": {},
   "outputs": [],
   "source": [
    "df_na.columns = 'count'"
   ]
  },
  {
   "cell_type": "code",
   "execution_count": null,
   "id": "a3c9c0ae",
   "metadata": {},
   "outputs": [],
   "source": [
    "plt.style.use('ggplot')"
   ]
  },
  {
   "cell_type": "code",
   "execution_count": null,
   "id": "33081844",
   "metadata": {},
   "outputs": [],
   "source": [
    "df_na.sort_values(ascending=False).plot(kind='bar', figsize=[10,6], color='#A57164', xlabel='Column names',\n",
    "                                       ylabel='Amount of Nan elements', title='Number of nan values');"
   ]
  },
  {
   "cell_type": "code",
   "execution_count": null,
   "id": "7b8d78b7",
   "metadata": {},
   "outputs": [],
   "source": [
    "df_na_1 = df.isna().sum()"
   ]
  },
  {
   "cell_type": "code",
   "execution_count": null,
   "id": "bbfad163",
   "metadata": {},
   "outputs": [],
   "source": [
    "df_na_1.columns = 'count'"
   ]
  },
  {
   "cell_type": "code",
   "execution_count": null,
   "id": "8b2e735a",
   "metadata": {},
   "outputs": [],
   "source": [
    "# df_na_1.loc[mask_0]\n",
    "pd.crosstab(index = (df_na_1 == 0), columns = 'count', normalize = 'columns')"
   ]
  },
  {
   "cell_type": "code",
   "execution_count": null,
   "id": "c43226ce",
   "metadata": {},
   "outputs": [],
   "source": [
    "colors = ['#A57164','#FFEBCD']\n",
    "explode_=[0.02,0.02]\n",
    "fig, ax = plt.subplots(nrows=1, ncols=1, figsize=[6,6])\n",
    "pd.crosstab(index = (df_na_1 == 0), columns = 'count', normalize = 'columns').plot(kind='pie',\n",
    "                                        y='count', ax=ax, colors=colors, labels=['',''],explode=explode_);\n",
    "ax.legend(['columns with Nans','columns without Nans'],\n",
    "             bbox_to_anchor=(0.0,1.05), loc='upper left', fontsize=10,labels=None);\n",
    "fig.suptitle('Proportion of columns without Nans to columns with Nans');\n",
    "t1 = ax.text(1.03, -0.4, '54%')\n",
    "# t1.remove()\n",
    "t2 = ax.text(-1., 0.7, '46%')"
   ]
  }
 ],
 "metadata": {
  "kernelspec": {
   "display_name": "Python 3 (ipykernel)",
   "language": "python",
   "name": "python3"
  },
  "language_info": {
   "codemirror_mode": {
    "name": "ipython",
    "version": 3
   },
   "file_extension": ".py",
   "mimetype": "text/x-python",
   "name": "python",
   "nbconvert_exporter": "python",
   "pygments_lexer": "ipython3",
   "version": "3.11.2"
  }
 },
 "nbformat": 4,
 "nbformat_minor": 5
}
