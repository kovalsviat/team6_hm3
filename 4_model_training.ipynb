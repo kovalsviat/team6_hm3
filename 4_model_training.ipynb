{
 "cells": [
  {
   "cell_type": "code",
   "execution_count": null,
   "id": "3d16d5ea",
   "metadata": {},
   "outputs": [],
   "source": [
    "INPUT_FOLDER = '/Users/bober/Desktop/study/naukma/prog/data'\n",
    "\n",
    "INPUT_FILE_MERGED = 'merged_dataset_v1.csv'\n",
    "INPUT_FILE_ISW = 'isw_all_days_parsed_v1.csv'\n",
    "INPUT_FOLDER = '/Users/bober/Desktop/study/naukma/prog/data'\n",
    "\n",
    "MODEL_FOLDER = \"models\"\n",
    "\n",
    "\n",
    "tfidf_transformer_model = \"tfidf_transformer\"\n",
    "count_vectorizer_model = \"count_vectorizer\"\n",
    "\n",
    "tfidf_transformer_version = \"v1\"\n",
    "count_vectorizer_version = \"v1\""
   ]
  },
  {
   "cell_type": "code",
   "execution_count": null,
   "id": "f16f5efa",
   "metadata": {},
   "outputs": [],
   "source": [
    "from sklearn.model_selection import train_test_split\n",
    "from sklearn.svm import LinearSVC"
   ]
  },
  {
   "cell_type": "code",
   "execution_count": null,
   "id": "f4502982",
   "metadata": {},
   "outputs": [],
   "source": [
    "import pandas as pd\n",
    "import datetime\n",
    "import pickle\n",
    "import scipy\n",
    "import numpy as np"
   ]
  },
  {
   "cell_type": "code",
   "execution_count": null,
   "id": "c41eb681",
   "metadata": {},
   "outputs": [],
   "source": [
    "from nltk.tokenize import word_tokenize\n",
    "from nltk.stem import PorterStemmer\n",
    "from nltk.stem import WordNetLemmatizer\n",
    "from collections import Counter\n",
    "from num2words import num2words\n",
    "from nltk.corpus import stopwords\n",
    "import nltk"
   ]
  },
  {
   "cell_type": "code",
   "execution_count": null,
   "id": "c1ae1551",
   "metadata": {},
   "outputs": [],
   "source": [
    "from sklearn.feature_extraction.text import CountVectorizer, TfidfVectorizer"
   ]
  },
  {
   "cell_type": "code",
   "execution_count": null,
   "id": "576dd530",
   "metadata": {},
   "outputs": [],
   "source": [
    "df_raw_data = pd.read_csv(f'{INPUT_FOLDER}/{INPUT_FILE_MERGED}',sep = ';')"
   ]
  },
  {
   "cell_type": "code",
   "execution_count": null,
   "id": "e873b080",
   "metadata": {
    "scrolled": false
   },
   "outputs": [],
   "source": [
    "df_raw_data"
   ]
  },
  {
   "cell_type": "code",
   "execution_count": null,
   "id": "f9f7955b",
   "metadata": {},
   "outputs": [],
   "source": [
    "#df_raw_data[df_raw_data['day_datetime']=='2022-04-28']"
   ]
  },
  {
   "cell_type": "code",
   "execution_count": null,
   "id": "191eb035",
   "metadata": {},
   "outputs": [],
   "source": [
    "is_alarm = ~((df_raw_data['event_end_hour'].isna()) & (df_raw_data['event_start_hour'].isna()))"
   ]
  },
  {
   "cell_type": "code",
   "execution_count": null,
   "id": "34a2aa7c",
   "metadata": {},
   "outputs": [],
   "source": [
    "df_raw_data['is_alarm']= is_alarm\n",
    "df_raw_data"
   ]
  },
  {
   "cell_type": "code",
   "execution_count": null,
   "id": "124da5cd",
   "metadata": {},
   "outputs": [],
   "source": [
    "df_raw_data.describe()\n"
   ]
  },
  {
   "cell_type": "code",
   "execution_count": null,
   "id": "4631fb4a",
   "metadata": {},
   "outputs": [],
   "source": [
    "df_isw_raw = pd.read_csv(f'{INPUT_FOLDER}/{INPUT_FILE_ISW}',sep = ';')\n",
    "df_isw_raw"
   ]
  },
  {
   "cell_type": "markdown",
   "id": "5d5f478f",
   "metadata": {},
   "source": [
    "### dropping the row and selecting the necessary columns/\n"
   ]
  },
  {
   "cell_type": "code",
   "execution_count": null,
   "id": "f964fcda",
   "metadata": {},
   "outputs": [],
   "source": [
    "#pd.to_datetime(df_isw_raw['date'])+datetime.timedelta(days=1)\n",
    "df_isw_raw['report_date']=df_isw_raw['date']\n",
    "df_isw_raw['date_tmrw']= (pd.to_datetime(df_isw_raw['date'])+datetime.timedelta(days=1)).dt.strftime('%Y-%m-%d')\n"
   ]
  },
  {
   "cell_type": "code",
   "execution_count": null,
   "id": "682664f2",
   "metadata": {},
   "outputs": [],
   "source": [
    "df_isw_upd = df_isw_raw.drop( labels = 0, axis=0,inplace=False)[[\"report_date\", \"date_tmrw\", \"keywords\", \"main_html_v7\", \"report_text_lemm\"]].copy().add_prefix('isw_')\n"
   ]
  },
  {
   "cell_type": "code",
   "execution_count": null,
   "id": "3a3c5de0",
   "metadata": {},
   "outputs": [],
   "source": [
    "df_isw_upd"
   ]
  },
  {
   "cell_type": "code",
   "execution_count": null,
   "id": "9056bc98",
   "metadata": {},
   "outputs": [],
   "source": [
    "df_all = df_raw_data.merge(df_isw_upd, how = 'left', left_on = 'day_datetime', right_on = 'isw_date_tmrw')"
   ]
  },
  {
   "cell_type": "code",
   "execution_count": null,
   "id": "9954dfc0",
   "metadata": {},
   "outputs": [],
   "source": [
    "df_all.sample(5)"
   ]
  },
  {
   "cell_type": "code",
   "execution_count": null,
   "id": "d41dff4d",
   "metadata": {
    "scrolled": true
   },
   "outputs": [],
   "source": [
    "df_all"
   ]
  },
  {
   "cell_type": "code",
   "execution_count": null,
   "id": "f1370df9",
   "metadata": {},
   "outputs": [],
   "source": [
    "to_delete = ['city_resolvedAddress',\n",
    "'day_datetime',\n",
    "\"hour_datetime\",\n",
    "\"hour_datetimeEpoch\",\n",
    "\"city\",\n",
    "\"region\",\n",
    "\"center_city_ua\",\n",
    "\"center_city_en\",\n",
    "\"event_region_title\",\n",
    "\"event_region_city\",\n",
    "\"event_all_region\",\n",
    "\"event_clean_end\",\n",
    "\"event_intersection_alarm_id\",\n",
    "\"event_start_hour\",\n",
    "\"event_end_hour\",\n",
    "\"event_start_hour_datetimeEpoch\",\n",
    "\"event_end_hour_datetimeEpoch\",\n",
    "\"event_hour_level_event_time\",\n",
    "\"event_hour_level_event_datetimeEpoch\",\n",
    "\"isw_report_date\",\n",
    "'isw_date_tmrw',\n",
    "'isw_main_html_v7',\n",
    "'isw_keywords',\n",
    "'isw_report_text_lemm'\n",
    "]"
   ]
  },
  {
   "cell_type": "code",
   "execution_count": null,
   "id": "544062c3",
   "metadata": {},
   "outputs": [],
   "source": [
    "df_weather_matrix = df_all.drop(to_delete, axis = 1)\n",
    "df_weather_matrix"
   ]
  },
  {
   "cell_type": "code",
   "execution_count": null,
   "id": "278c4004",
   "metadata": {},
   "outputs": [],
   "source": [
    "additional_to_delete = [\n",
    "\"day_sunset\",\n",
    "\"hour_preciptype\",\n",
    "\"hour_conditions\",\n",
    "\"region_alt\",\n",
    "\"event_start\",\n",
    "\"event_end\",\n",
    "\"hour_solarenergy\",\n",
    "'event_region_id',\n",
    "'event_duration',\n",
    "'event_duration_in_mins_int',\n",
    "'event_amount_of_alarms_for_one_day',\n",
    "'event_intersection_alarm_region_counts',\n",
    "'event_last_24_hour_in_region',\n",
    "'event_start_date',\n",
    "'event_end_date',\n",
    "'day_sunrise'\n",
    "]"
   ]
  },
  {
   "cell_type": "code",
   "execution_count": null,
   "id": "8198dd5a",
   "metadata": {},
   "outputs": [],
   "source": [
    "df_weather_matrix_v1 = df_weather_matrix.drop(additional_to_delete, axis = 1)\n"
   ]
  },
  {
   "cell_type": "code",
   "execution_count": null,
   "id": "de594b8d",
   "metadata": {},
   "outputs": [],
   "source": [
    "df_weather_matrix_v2 = df_weather_matrix_v1.drop(['is_alarm'],axis=1 ).fillna(method=\"ffill\")"
   ]
  },
  {
   "cell_type": "code",
   "execution_count": null,
   "id": "7b4b6d09",
   "metadata": {},
   "outputs": [],
   "source": [
    "pd.set_option('display.max_columns', None)"
   ]
  },
  {
   "cell_type": "code",
   "execution_count": null,
   "id": "a734259e",
   "metadata": {},
   "outputs": [],
   "source": [
    "df_weather_matrix_v2.sample(5)"
   ]
  },
  {
   "cell_type": "code",
   "execution_count": null,
   "id": "882c819f",
   "metadata": {},
   "outputs": [],
   "source": [
    "df_weather_matrix_v2_csr = scipy.sparse.csr_matrix(df_weather_matrix_v2.values)\n"
   ]
  },
  {
   "cell_type": "markdown",
   "id": "b15c49af",
   "metadata": {},
   "source": [
    "### TD-IDF"
   ]
  },
  {
   "cell_type": "code",
   "execution_count": null,
   "id": "26fec0f3",
   "metadata": {},
   "outputs": [],
   "source": [
    "tf_idf = pickle.load(open (\"/Users/bober/Desktop/study/naukma/prog/td/tfidf_transformer_v1.pkl\", \"rb\"))\n",
    "cv = pickle.load(open (\"/Users/bober/Desktop/study/naukma/prog/td/count_vectorizer_v1.pkl\", \"rb\"))"
   ]
  },
  {
   "cell_type": "code",
   "execution_count": null,
   "id": "eb86e95b",
   "metadata": {
    "scrolled": true
   },
   "outputs": [],
   "source": [
    "df_isw_upd['isw_report_text_lemm']"
   ]
  },
  {
   "cell_type": "code",
   "execution_count": null,
   "id": "c5dd45ea",
   "metadata": {
    "scrolled": true
   },
   "outputs": [],
   "source": [
    "type(tf_idf)"
   ]
  },
  {
   "cell_type": "code",
   "execution_count": null,
   "id": "e2158a7c",
   "metadata": {
    "scrolled": false
   },
   "outputs": [],
   "source": [
    "cv_vector = cv.transform(df_all['isw_report_text_lemm'].values.astype('U'))\n"
   ]
  },
  {
   "cell_type": "code",
   "execution_count": null,
   "id": "2edc333d",
   "metadata": {},
   "outputs": [],
   "source": [
    "tf_idf_vector = tf_idf.transform(cv_vector)"
   ]
  },
  {
   "cell_type": "code",
   "execution_count": null,
   "id": "3398759c",
   "metadata": {
    "scrolled": true
   },
   "outputs": [],
   "source": [
    "tf_idf_vector.shape"
   ]
  },
  {
   "cell_type": "code",
   "execution_count": null,
   "id": "af6bda9a",
   "metadata": {},
   "outputs": [],
   "source": [
    "df_all_data_csr = scipy.sparse.hstack((df_weather_matrix_v2_csr, tf_idf_vector), format='csr')"
   ]
  },
  {
   "cell_type": "code",
   "execution_count": null,
   "id": "ded94408",
   "metadata": {},
   "outputs": [],
   "source": [
    "df_all_data_csr"
   ]
  },
  {
   "cell_type": "markdown",
   "id": "54c849ab",
   "metadata": {},
   "source": [
    "# TRAIN"
   ]
  },
  {
   "cell_type": "code",
   "execution_count": null,
   "id": "46dee588",
   "metadata": {},
   "outputs": [],
   "source": [
    "from sklearn.model_selection import TimeSeriesSplit\n",
    "from sklearn import svm\n",
    "from sklearn.linear_model import SGDClassifier\n",
    "from sklearn.metrics import confusion_matrix\n",
    "from sklearn import tree\n",
    "from sklearn.linear_model import LogisticRegression\n",
    "from sklearn.ensemble import RandomForestClassifier\n",
    "from sklearn.cross_decomposition import PLSCanonical"
   ]
  },
  {
   "cell_type": "code",
   "execution_count": null,
   "id": "b6aacc14",
   "metadata": {},
   "outputs": [],
   "source": [
    "#ts_cv = TimeSeriesSplit(\n",
    " #   n_splits=5,\n",
    " #   gap=48,\n",
    " #   max_train_size=None,\n",
    " #   test_size=40000,\n",
    "#)\n",
    "#array = ts_cv.split(df_all_data_csr,is_alarm)\n"
   ]
  },
  {
   "cell_type": "code",
   "execution_count": null,
   "id": "bcf3f3b5",
   "metadata": {},
   "outputs": [],
   "source": [
    "def get_param(matrix):\n",
    "    TP = matrix[0,0]\n",
    "    FP = matrix[0,1]\n",
    "    FN = matrix[1,0]\n",
    "    TN = matrix[1,1]\n",
    "    recall = TP/(TP+FN)\n",
    "    precision = TP/(TP+FP)\n",
    "    accuracy = (TP+TN)/(TP+FP+TN+FN)\n",
    "    result = f'Accuracy: {accuracy}, Recall: {recall}, Precision: {precision}'\n",
    "    return result"
   ]
  },
  {
   "cell_type": "code",
   "execution_count": null,
   "id": "661e3deb",
   "metadata": {},
   "outputs": [],
   "source": [
    "RANDOM_STATE = 1\n",
    "X_train, X_test, y_train, y_test = train_test_split(df_all_data_csr, is_alarm,\n",
    "test_size=0.20,\n",
    "random_state = RANDOM_STATE,\n",
    "shuffle=True)"
   ]
  },
  {
   "cell_type": "markdown",
   "id": "73f32f63",
   "metadata": {},
   "source": [
    "# 1 too long"
   ]
  },
  {
   "cell_type": "code",
   "execution_count": null,
   "id": "8afcd663",
   "metadata": {},
   "outputs": [],
   "source": [
    "#model_1 = svm.SVC()\n",
    "#model_1.fit(X_train, y_train)"
   ]
  },
  {
   "cell_type": "code",
   "execution_count": null,
   "id": "b8b09df8",
   "metadata": {},
   "outputs": [],
   "source": [
    "#predicted1 = model_1.predict(X_test)\n",
    "#np.mean(predicted1 == y_test)"
   ]
  },
  {
   "cell_type": "code",
   "execution_count": null,
   "id": "1efedcc0",
   "metadata": {},
   "outputs": [],
   "source": [
    "#confusion_matrix_1 = confusion_matrix(y_test, predicted1)\n",
    "#confusion_matrix_1"
   ]
  },
  {
   "cell_type": "code",
   "execution_count": null,
   "id": "cf8977f3",
   "metadata": {},
   "outputs": [],
   "source": [
    "#get_param(confusion_matrix_1)"
   ]
  },
  {
   "cell_type": "markdown",
   "id": "ca97daf6",
   "metadata": {},
   "source": [
    "# 2 "
   ]
  },
  {
   "cell_type": "code",
   "execution_count": null,
   "id": "f6045416",
   "metadata": {},
   "outputs": [],
   "source": [
    "model_2 =  LogisticRegression(penalty=\"l1\", tol=0.01, solver=\"saga\")\n",
    "model_2.fit(X_train, y_train)"
   ]
  },
  {
   "cell_type": "code",
   "execution_count": null,
   "id": "d55c1f4b",
   "metadata": {},
   "outputs": [],
   "source": [
    "predicted2 = model_2.predict(X_test)\n",
    "np.mean(predicted2 == y_test)"
   ]
  },
  {
   "cell_type": "code",
   "execution_count": null,
   "id": "a2bfec98",
   "metadata": {},
   "outputs": [],
   "source": [
    "confusion_matrix_2 = confusion_matrix(y_test, predicted2)\n",
    "confusion_matrix_2"
   ]
  },
  {
   "cell_type": "code",
   "execution_count": null,
   "id": "d4e0251c",
   "metadata": {},
   "outputs": [],
   "source": [
    "get_param(confusion_matrix_2)"
   ]
  },
  {
   "cell_type": "code",
   "execution_count": null,
   "id": "775d22ed",
   "metadata": {},
   "outputs": [],
   "source": [
    "import matplotlib.pyplot as plt\n",
    "coef = model_2.coef_.ravel()\n",
    "coef\n",
    "top_features = np.argsort(np.abs(coef))[-20:]\n",
    "top_weights = coef[top_features]\n",
    "\n",
    "plt.figure(figsize=(10, 8))\n",
    "plt.barh(range(len(top_features)), top_weights, align='center')\n",
    "plt.yticks(range(len(top_features)), [f'Feature {i}' for i in top_features])\n",
    "plt.xlabel('Feature Weight')\n",
    "plt.title('Top 20 Features with their Weights')\n",
    "plt.show()"
   ]
  },
  {
   "cell_type": "markdown",
   "id": "94333573",
   "metadata": {},
   "source": [
    "# 3 done"
   ]
  },
  {
   "cell_type": "code",
   "execution_count": null,
   "id": "ee6e24ee",
   "metadata": {},
   "outputs": [],
   "source": [
    "model_3 = SGDClassifier(loss=\"hinge\", penalty=\"l2\", max_iter=5)\n",
    "model_3.fit(X_train, y_train)"
   ]
  },
  {
   "cell_type": "code",
   "execution_count": null,
   "id": "487f7fae",
   "metadata": {},
   "outputs": [],
   "source": [
    "predicted3 = model_3.predict(X_test)\n",
    "np.mean(predicted3 == y_test)"
   ]
  },
  {
   "cell_type": "code",
   "execution_count": null,
   "id": "0c62c02f",
   "metadata": {},
   "outputs": [],
   "source": [
    "confusion_matrix_3 = confusion_matrix(y_test, predicted3)\n",
    "confusion_matrix_3"
   ]
  },
  {
   "cell_type": "code",
   "execution_count": null,
   "id": "81aecca1",
   "metadata": {},
   "outputs": [],
   "source": [
    "get_param(confusion_matrix_3)"
   ]
  },
  {
   "cell_type": "markdown",
   "id": "0c04698c",
   "metadata": {},
   "source": [
    "# 4 done"
   ]
  },
  {
   "cell_type": "code",
   "execution_count": null,
   "id": "d745a094",
   "metadata": {},
   "outputs": [],
   "source": [
    "model_4 = RandomForestClassifier()\n",
    "model_4.fit(X_train, y_train)"
   ]
  },
  {
   "cell_type": "code",
   "execution_count": null,
   "id": "d6a47dbe",
   "metadata": {},
   "outputs": [],
   "source": [
    "predicted4 = model_4.predict(X_test)\n",
    "np.mean(predicted4 == y_test)"
   ]
  },
  {
   "cell_type": "code",
   "execution_count": null,
   "id": "4d4663c6",
   "metadata": {},
   "outputs": [],
   "source": [
    "confusion_matrix_4 = confusion_matrix(y_test, predicted4)\n",
    "confusion_matrix_4"
   ]
  },
  {
   "cell_type": "code",
   "execution_count": null,
   "id": "77690743",
   "metadata": {},
   "outputs": [],
   "source": [
    "get_param(confusion_matrix_4)"
   ]
  },
  {
   "cell_type": "markdown",
   "id": "b9a46767",
   "metadata": {},
   "source": [
    "# 5 done"
   ]
  },
  {
   "cell_type": "code",
   "execution_count": null,
   "id": "d7516561",
   "metadata": {},
   "outputs": [],
   "source": [
    "model_5 = tree.DecisionTreeClassifier()\n",
    "model_5.fit(X_train, y_train) "
   ]
  },
  {
   "cell_type": "code",
   "execution_count": null,
   "id": "e27b6e6c",
   "metadata": {},
   "outputs": [],
   "source": [
    "predicted5 = model_5.predict(X_test)\n",
    "np.mean(predicted5 == y_test)"
   ]
  },
  {
   "cell_type": "code",
   "execution_count": null,
   "id": "3d140969",
   "metadata": {},
   "outputs": [],
   "source": [
    "confusion_matrix_5 = confusion_matrix(y_test, predicted5)\n",
    "confusion_matrix_5"
   ]
  },
  {
   "cell_type": "code",
   "execution_count": null,
   "id": "80def4ae",
   "metadata": {},
   "outputs": [],
   "source": [
    "get_param(confusion_matrix_5)"
   ]
  },
  {
   "cell_type": "markdown",
   "id": "4aa117f4",
   "metadata": {},
   "source": [
    "# 6"
   ]
  },
  {
   "cell_type": "code",
   "execution_count": null,
   "id": "45b426ba",
   "metadata": {
    "scrolled": true
   },
   "outputs": [],
   "source": [
    "model_6 = KNeighborsClassifier()\n",
    "model_6.fit(X_train, y_train)\n"
   ]
  },
  {
   "cell_type": "code",
   "execution_count": null,
   "id": "568a143a",
   "metadata": {},
   "outputs": [],
   "source": [
    "predicted6 = model_6.predict(X_test)\n",
    "np.mean(predicted6 == y_test)"
   ]
  },
  {
   "cell_type": "code",
   "execution_count": null,
   "id": "c7ca2983",
   "metadata": {},
   "outputs": [],
   "source": [
    "confusion_matrix_6 = confusion_matrix(y_test, predicted6)\n",
    "confusion_matrix_6"
   ]
  },
  {
   "cell_type": "code",
   "execution_count": null,
   "id": "abf4ae37",
   "metadata": {},
   "outputs": [],
   "source": [
    "get_param(confusion_matrix_6)"
   ]
  },
  {
   "cell_type": "markdown",
   "id": "e0f12946",
   "metadata": {},
   "source": [
    "## Saving model"
   ]
  },
  {
   "cell_type": "code",
   "execution_count": null,
   "id": "707ea21e",
   "metadata": {},
   "outputs": [],
   "source": [
    "INPUT_FOLDER_2 = '/Users/bober/Desktop/study/naukma/prog/models'"
   ]
  },
  {
   "cell_type": "code",
   "execution_count": null,
   "id": "d07cbd71",
   "metadata": {},
   "outputs": [],
   "source": [
    "name = 'random_forest'\n",
    "version = 'v1'\n",
    "name_model = f'6__{name}__{version}'\n",
    "model = model_4\n",
    "\n",
    "with open(f'{INPUT_FOLDER_2}/{name_model}.pkl','wb') as handle:\n",
    "    pickle.dump(model, handle)"
   ]
  },
  {
   "cell_type": "markdown",
   "id": "67998a7b",
   "metadata": {},
   "source": [
    "## Calculating a confusion matrix"
   ]
  },
  {
   "cell_type": "code",
   "execution_count": null,
   "id": "f23981bd",
   "metadata": {},
   "outputs": [],
   "source": [
    "confusion_matrix(y_true, y_pred)"
   ]
  }
 ],
 "metadata": {
  "kernelspec": {
   "display_name": "Python 3 (ipykernel)",
   "language": "python",
   "name": "python3"
  },
  "language_info": {
   "codemirror_mode": {
    "name": "ipython",
    "version": 3
   },
   "file_extension": ".py",
   "mimetype": "text/x-python",
   "name": "python",
   "nbconvert_exporter": "python",
   "pygments_lexer": "ipython3",
   "version": "3.9.6"
  }
 },
 "nbformat": 4,
 "nbformat_minor": 5
}
